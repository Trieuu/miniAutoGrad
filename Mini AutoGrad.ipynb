{
  "nbformat": 4,
  "nbformat_minor": 0,
  "metadata": {
    "colab": {
      "provenance": [],
      "collapsed_sections": [
        "yaT-U7Vu6agf",
        "cUaK82Lk2mks",
        "_gLB34qkI6gy",
        "LvwWCVDbmI31",
        "m7Z1zHs3sp4I",
        "fxlrjD91DfsZ",
        "n2NB5-ewVO8Q"
      ]
    },
    "kernelspec": {
      "name": "python3",
      "display_name": "Python 3"
    },
    "language_info": {
      "name": "python"
    }
  },
  "cells": [
    {
      "cell_type": "markdown",
      "source": [
        "# Introduction and Setting"
      ],
      "metadata": {
        "id": "yaT-U7Vu6agf"
      }
    },
    {
      "cell_type": "markdown",
      "source": [
        "## Project Goal"
      ],
      "metadata": {
        "id": "Qb3ICasq2jJ8"
      }
    },
    {
      "cell_type": "markdown",
      "source": [
        "- The goal of this project is to have a deeper look on how we train a deep learning model. Specifically, how the model weight and bias get change with regard to the target and the output it make through Back Propagation.\n",
        "\n",
        "- In this project, we will implement a small class which call __Value__ (which play a role as a wrapper to our variable, which purpose will be discussed particularly in next section). And also, we will define the an simple MLP (Multi Layer Perceptron) to visualize the process of Back Propagation."
      ],
      "metadata": {
        "id": "Bv0sgUV-1WiK"
      }
    },
    {
      "cell_type": "markdown",
      "source": [
        "## Import Library"
      ],
      "metadata": {
        "id": "bkWhCJDl6VVe"
      }
    },
    {
      "cell_type": "code",
      "execution_count": 209,
      "metadata": {
        "id": "KWbdJhbB1S8a"
      },
      "outputs": [],
      "source": [
        "import math\n",
        "import numpy as np\n",
        "import matplotlib.pyplot as plt\n",
        "import random\n",
        "\n",
        "%matplotlib inline"
      ]
    },
    {
      "cell_type": "markdown",
      "source": [
        "## Drawing function\n",
        "\n"
      ],
      "metadata": {
        "id": "vKtgly9GMTtg"
      }
    },
    {
      "cell_type": "code",
      "source": [
        "from graphviz import Digraph\n",
        "\n",
        "def trace(root):\n",
        "  # builds a set of all nodes and edges in a graph\n",
        "  nodes, edges = set(), set()\n",
        "  def build(v):\n",
        "    if v not in nodes:\n",
        "      nodes.add(v)\n",
        "      for child in v._prev:\n",
        "        edges.add((child, v))\n",
        "        build(child)\n",
        "  build(root)\n",
        "  return nodes, edges\n",
        "\n",
        "def draw_dot(root):\n",
        "  dot = Digraph(format='svg', graph_attr={'rankdir': 'LR'}) # LR = left to right\n",
        "\n",
        "  nodes, edges = trace(root)\n",
        "  for n in nodes:\n",
        "    uid = str(id(n))\n",
        "    # for any value in the graph, create a rectangular ('record') node for it\n",
        "    dot.node(name = uid, label = \"{ %s | data %.4f | grad %.4f }\" % (n.label, n.data, n.grad), shape='record')\n",
        "    if n._op:\n",
        "      # if this value is a result of some operation, create an op node for it\n",
        "      dot.node(name = uid + n._op, label = n._op)\n",
        "      # and connect this node to it\n",
        "      dot.edge(uid + n._op, uid)\n",
        "\n",
        "  for n1, n2 in edges:\n",
        "    # connect n1 to the op node of n2\n",
        "    dot.edge(str(id(n1)), str(id(n2)) + n2._op)\n",
        "\n",
        "  return dot"
      ],
      "metadata": {
        "id": "-tpL4E77MazC"
      },
      "execution_count": 153,
      "outputs": []
    },
    {
      "cell_type": "markdown",
      "source": [
        "# I. Derivative and Gradient Descent"
      ],
      "metadata": {
        "id": "cUaK82Lk2mks"
      }
    },
    {
      "cell_type": "markdown",
      "source": [
        "Before movwing forward to the Back Propagation, we will talk a little bit about the Derivative of the function. Briefly, it is good (for me) to think simply the derivative of the function will tell us two things:\n",
        "- The direction vector of the function at a point on that function.\n",
        "- And second is the magnitude of the direction vector at that point.\n",
        "\n",
        "These two keys provide us an idea of finding the way to the optimize the Loss function (which we will use to Evaluate and Update the weight of the model), by moving to the minimum of the function in the direction oposite to the derivative at a point.\n",
        "\n",
        "To have a better intuition, let's take a look at the below function: $3x^2 - 4x + 5$"
      ],
      "metadata": {
        "id": "YsTKuuQH207H"
      }
    },
    {
      "cell_type": "code",
      "source": [
        "def f(x):\n",
        "  return 3*x**2 - 4*x + 5"
      ],
      "metadata": {
        "id": "qEyqJalB1WIy"
      },
      "execution_count": 2,
      "outputs": []
    },
    {
      "cell_type": "code",
      "source": [
        "f(3.0)"
      ],
      "metadata": {
        "colab": {
          "base_uri": "https://localhost:8080/"
        },
        "id": "RgJZaFdS5-zi",
        "outputId": "2d4dc651-ce94-4639-a03a-1969cd4040c7"
      },
      "execution_count": 3,
      "outputs": [
        {
          "output_type": "execute_result",
          "data": {
            "text/plain": [
              "20.0"
            ]
          },
          "metadata": {},
          "execution_count": 3
        }
      ]
    },
    {
      "cell_type": "code",
      "source": [
        "xs = np.arange(-5, 5, 0.25)\n",
        "ys = f(xs)\n",
        "plt.plot(xs, ys)"
      ],
      "metadata": {
        "colab": {
          "base_uri": "https://localhost:8080/",
          "height": 447
        },
        "id": "DM0kC92H5_GX",
        "outputId": "cc8ef060-0cd0-49f7-bfbd-6e2a5ce75ad7"
      },
      "execution_count": 7,
      "outputs": [
        {
          "output_type": "execute_result",
          "data": {
            "text/plain": [
              "[<matplotlib.lines.Line2D at 0x79a7dd739690>]"
            ]
          },
          "metadata": {},
          "execution_count": 7
        },
        {
          "output_type": "display_data",
          "data": {
            "text/plain": [
              "<Figure size 640x480 with 1 Axes>"
            ],
            "image/png": "[encoded data removed]"
          },
          "metadata": {}
        }
      ]
    },
    {
      "cell_type": "markdown",
      "source": [
        "Now, we will consider the tangent line of the function at two point 2."
      ],
      "metadata": {
        "id": "iQBaK6-r67dz"
      }
    },
    {
      "cell_type": "code",
      "source": [
        "def derivative(x):\n",
        "  return 6*x - 4\n",
        "\n",
        "def tangent_line(x,x0):\n",
        "  return f(x0) + derivative(x0) * (x - x0)"
      ],
      "metadata": {
        "id": "gy4MVkhm6hg1"
      },
      "execution_count": 26,
      "outputs": []
    },
    {
      "cell_type": "code",
      "source": [
        "cur_x = 2\n",
        "cur_y = f(cur_x)\n",
        "plt.scatter(cur_x, cur_y, color='blue', zorder=5)\n",
        "plt.text(cur_x + 0.5, cur_y - 3, \"Current Point\", color='blue')\n",
        "\n",
        "plt.plot(xs, ys)"
      ],
      "metadata": {
        "colab": {
          "base_uri": "https://localhost:8080/",
          "height": 447
        },
        "id": "DL__KMVyGlc3",
        "outputId": "4adde370-e44f-414d-ba9d-fddb3edb2a28"
      },
      "execution_count": 64,
      "outputs": [
        {
          "output_type": "execute_result",
          "data": {
            "text/plain": [
              "[<matplotlib.lines.Line2D at 0x79a7cd942200>]"
            ]
          },
          "metadata": {},
          "execution_count": 64
        },
        {
          "output_type": "display_data",
          "data": {
            "text/plain": [
              "<Figure size 640x480 with 1 Axes>"
            ],
            "image/png": "[encoded data removed]"
          },
          "metadata": {}
        }
      ]
    },
    {
      "cell_type": "markdown",
      "source": [
        "Now, if we want to move to the global minimum (in this case, our function is simple, it only have global minimum), we just need to move in the oposite to the direction of the derivative, we do this by subtract 2 by $α$$f'(2)$ (where $α$ is learning rate of the model or we can consider it as a factor which we will control the step of we that we move).\n",
        "\n",
        "So, let's choose $α$ = 0.1, hence, the next point is (1.2, 4.52) which closer to the minimum (at (2/3,11/3) ) than (2,9)."
      ],
      "metadata": {
        "id": "NfVDxIZ3ACwY"
      }
    },
    {
      "cell_type": "code",
      "source": [
        "# Create a figure with two subplots side by side\n",
        "fig, (ax1, ax2) = plt.subplots(1, 2, figsize=(18, 6))  # 1 row, 2 columns\n",
        "\n",
        "# First plot (cell 1) on the left\n",
        "x_tangent_1 = np.arange(0.5, 4.5, 0.5)\n",
        "y_tangent_1 = tangent_line(x_tangent_1, 2)\n",
        "ax1.plot(x_tangent_1, y_tangent_1, 'b--')\n",
        "\n",
        "cur_x = 2\n",
        "cur_y = f(cur_x)\n",
        "ax1.scatter(cur_x, cur_y, color='blue', zorder=5)\n",
        "ax1.text(cur_x + 0.5, cur_y - 3, \"Current Point\", color='blue')\n",
        "\n",
        "min_x = 2/3\n",
        "min_y = f(min_x)\n",
        "ax1.scatter(min_x, min_y, color='red', zorder=5)\n",
        "ax1.text(min_x - 1.5, min_y - 4, \"Minimum\", color='red')\n",
        "\n",
        "# Generate the original function values for plotting\n",
        "xs = np.arange(-5, 5, 0.25)\n",
        "ys = f(xs)\n",
        "\n",
        "ax1.plot(xs, ys)\n",
        "\n",
        "# Second plot (cell 2) on the right\n",
        "x_tangent_1 = np.arange(0.5, 4.5, 0.5)\n",
        "y_tangent_1 = tangent_line(x_tangent_1, 2)\n",
        "ax2.plot(x_tangent_1, y_tangent_1, 'b--')\n",
        "\n",
        "cur_x = 2\n",
        "cur_y = f(cur_x)\n",
        "ax2.scatter(cur_x, cur_y, color='blue', zorder=5)\n",
        "ax2.text(cur_x + 0.5, cur_y - 3, \"Current Point\", color='blue')\n",
        "\n",
        "new_x = 1.2\n",
        "new_y = f(new_x)\n",
        "ax2.scatter(new_x, new_y, color='green', zorder=5)\n",
        "ax2.text(new_x - 1, new_y + 4.5, \"New point\", color='green')\n",
        "\n",
        "ax2.annotate(\"\",\n",
        "             xy=(new_x, new_y), xycoords='data',\n",
        "             xytext=(cur_x, cur_y), textcoords='data',\n",
        "             arrowprops=dict(arrowstyle=\"->\", color='orange', lw=1.5),\n",
        "             )\n",
        "\n",
        "min_x = 2/3\n",
        "min_y = f(min_x)\n",
        "ax2.scatter(min_x, min_y, color='red', zorder=5)\n",
        "ax2.text(min_x - 1.5, min_y - 4, \"Minimum\", color='red')\n",
        "\n",
        "ax2.plot(xs, ys)"
      ],
      "metadata": {
        "colab": {
          "base_uri": "https://localhost:8080/",
          "height": 523
        },
        "id": "s0vHmQMgHVMr",
        "outputId": "286dd569-f238-48c6-848e-1ce422df1c49"
      },
      "execution_count": 71,
      "outputs": [
        {
          "output_type": "execute_result",
          "data": {
            "text/plain": [
              "[<matplotlib.lines.Line2D at 0x79a7cd063490>]"
            ]
          },
          "metadata": {},
          "execution_count": 71
        },
        {
          "output_type": "display_data",
          "data": {
            "text/plain": [
              "<Figure size 1800x600 with 2 Axes>"
            ],
            "image/png": "[encoded data removed]"
          },
          "metadata": {}
        }
      ]
    },
    {
      "cell_type": "markdown",
      "source": [
        "What we have done so far is call Gradient Descent, moving toward the minimum of the function in the opposite direction of the derivative, each step controled by the learning rate $α$.\n",
        "\n",
        "Now, we are ready to move to next part."
      ],
      "metadata": {
        "id": "2YuCvhWZFthc"
      }
    },
    {
      "cell_type": "markdown",
      "source": [
        "# II. Class \"Value\""
      ],
      "metadata": {
        "id": "_gLB34qkI6gy"
      }
    },
    {
      "cell_type": "markdown",
      "source": [
        "In this section, we will implement a new data type call __Value__, the purpose we implement this class to is make a wrapper to our data and thus keep track of what actually happen to it (i.e what operation it is made from, what is the function of its, what is the derivative of the very last function to this variable,...). All of them will be discuss in this section."
      ],
      "metadata": {
        "id": "oXbF13kYJKhe"
      }
    },
    {
      "cell_type": "markdown",
      "source": [
        "We first take a look at the attribute of the new class __Value__:\n",
        "\n",
        "- data: This is the current data that each node hold.\n",
        "- grad: The Gradient of the very last funtion regarad to this variable (that $∇F/∇a$ which we assume the this node variable is a)\n",
        "- _backward: Function use for Back Propagation, passing the gradient to its children.\n",
        "- _prev: A set to keep track its children.\n",
        "- _op: An attribute of type string to store the operation which produce this node (For ex: if c = a + b, c._op = \"+\").\n",
        "- label: Name of the variable."
      ],
      "metadata": {
        "id": "1Tw_liDoKBKW"
      }
    },
    {
      "cell_type": "code",
      "source": [
        "class Value:\n",
        "    \"\"\" stores a single scalar value and its gradient \"\"\"\n",
        "\n",
        "    def __init__(self, data, _children=(), _op='',label = \"\"):\n",
        "        self.data = data\n",
        "        self.grad = 0\n",
        "        # internal variables used for autograd graph construction\n",
        "        self._backward = lambda: None\n",
        "        self._prev = set(_children)\n",
        "        self._op = _op # the op that produced this node, for graphviz / debugging / etc\n",
        "        self.label = label\n",
        "\n",
        "    def __add__(self, other):\n",
        "        other = other if isinstance(other, Value) else Value(other)\n",
        "        if (self.label == \"\"):\n",
        "          out = Value(self.data + other.data, (self, other), '+')\n",
        "        else:\n",
        "          out = Value(self.data + other.data, (self, other), '+',label = self.label) # This case is for +=\n",
        "\n",
        "        def _backward():\n",
        "            self.grad += out.grad\n",
        "            other.grad += out.grad\n",
        "        out._backward = _backward\n",
        "\n",
        "        return out\n",
        "\n",
        "    def __mul__(self, other):\n",
        "        other = other if isinstance(other, Value) else Value(other)\n",
        "        if (self.label == \"\"):\n",
        "          out = Value(self.data * other.data, (self, other), '*')\n",
        "        else:\n",
        "          out = Value(self.data * other.data, (self, other), '*', label = self.label) # This is is for *=\n",
        "\n",
        "        def _backward():\n",
        "            self.grad += other.data * out.grad\n",
        "            other.grad += self.data * out.grad\n",
        "        out._backward = _backward\n",
        "\n",
        "        return out\n",
        "\n",
        "    def __pow__(self, other):\n",
        "        assert isinstance(other, (int, float)), \"only supporting int/float powers for now\"\n",
        "        out = Value(self.data**other, (self,), f'**{other}')\n",
        "\n",
        "        def _backward():\n",
        "            self.grad += (other * self.data**(other-1)) * out.grad\n",
        "        out._backward = _backward\n",
        "\n",
        "        return out\n",
        "\n",
        "    def relu(self):\n",
        "        out = Value(0 if self.data < 0 else self.data, (self,), 'ReLU')\n",
        "\n",
        "        def _backward():\n",
        "            self.grad += (out.data > 0) * out.grad\n",
        "        out._backward = _backward\n",
        "\n",
        "        return out\n",
        "\n",
        "    def backward(self):\n",
        "\n",
        "        # topological order all of the children in the graph\n",
        "        topo = []\n",
        "        visited = set()\n",
        "        def build_topo(v):\n",
        "            if v not in visited:\n",
        "                visited.add(v)\n",
        "                for child in v._prev:\n",
        "                    build_topo(child)\n",
        "                topo.append(v)\n",
        "        build_topo(self)\n",
        "\n",
        "        # go one variable at a time and apply the chain rule to get its gradient\n",
        "        self.grad = 1\n",
        "        for v in reversed(topo):\n",
        "            v._backward()\n",
        "\n",
        "    def __neg__(self): # -self\n",
        "        return self * -1\n",
        "\n",
        "    def __radd__(self, other): # other + self\n",
        "        return self + other\n",
        "\n",
        "    def __sub__(self, other): # self - other\n",
        "        return self + (-other)\n",
        "\n",
        "    def __rsub__(self, other): # other - self\n",
        "        return other + (-self)\n",
        "\n",
        "    def __rmul__(self, other): # other * self\n",
        "        return self * other\n",
        "\n",
        "    def __truediv__(self, other): # self / other\n",
        "        return self * other**-1\n",
        "\n",
        "    def __rtruediv__(self, other): # other / self\n",
        "        return other * self**-1\n",
        "\n",
        "    def __repr__(self):\n",
        "        return f\"Value(data={self.data}, grad={self.grad})\""
      ],
      "metadata": {
        "id": "OH-ecCxwK__d"
      },
      "execution_count": 194,
      "outputs": []
    },
    {
      "cell_type": "markdown",
      "source": [
        "The following is the example code of simple expression c = a*b."
      ],
      "metadata": {
        "id": "7e0OzHxnORz7"
      }
    },
    {
      "cell_type": "code",
      "source": [
        "a = Value(2.0,label=\"a\")\n",
        "b = Value(3.0,label = 'b')\n",
        "c = a * b; c.label = 'c'\n",
        "\n",
        "draw_dot(c)"
      ],
      "metadata": {
        "colab": {
          "base_uri": "https://localhost:8080/",
          "height": 154
        },
        "id": "j9iIt-X4Mhxx",
        "outputId": "6fd31146-910c-4914-a0b9-92e5033d1c60"
      },
      "execution_count": 154,
      "outputs": [
        {
          "output_type": "execute_result",
          "data": {
            "image/svg+xml": "<?xml version=\"1.0\" encoding=\"UTF-8\" standalone=\"no\"?>\n<!DOCTYPE svg PUBLIC \"-//W3C//DTD SVG 1.1//EN\"\n \"http://www.w3.org/Graphics/SVG/1.1/DTD/svg11.dtd\">\n<!-- Generated by graphviz version 2.43.0 (0)\n -->\n<!-- Title: %3 Pages: 1 -->\n<svg width=\"504pt\" height=\"100pt\"\n viewBox=\"0.00 0.00 504.00 100.00\" xmlns=\"http://www.w3.org/2000/svg\" xmlns:xlink=\"http://www.w3.org/1999/xlink\">\n<g id=\"graph0\" class=\"graph\" transform=\"scale(1 1) rotate(0) translate(4 96)\">\n<title>%3</title>\n<polygon fill=\"white\" stroke=\"transparent\" points=\"-4,4 -4,-96 500,-96 500,4 -4,4\"/>\n<!-- 133761437572240 -->\n<g id=\"node1\" class=\"node\">\n<title>133761437572240</title>\n<polygon fill=\"none\" stroke=\"black\" points=\"0,-55.5 0,-91.5 185,-91.5 185,-55.5 0,-55.5\"/>\n<text text-anchor=\"middle\" x=\"11.5\" y=\"-69.8\" font-family=\"Times,serif\" font-size=\"14.00\">b</text>\n<polyline fill=\"none\" stroke=\"black\" points=\"23,-55.5 23,-91.5 \"/>\n<text text-anchor=\"middle\" x=\"63\" y=\"-69.8\" font-family=\"Times,serif\" font-size=\"14.00\">data 3.0000</text>\n<polyline fill=\"none\" stroke=\"black\" points=\"103,-55.5 103,-91.5 \"/>\n<text text-anchor=\"middle\" x=\"144\" y=\"-69.8\" font-family=\"Times,serif\" font-size=\"14.00\">grad 0.0000</text>\n</g>\n<!-- 133761438500416* -->\n<g id=\"node3\" class=\"node\">\n<title>133761438500416*</title>\n<ellipse fill=\"none\" stroke=\"black\" cx=\"248\" cy=\"-45.5\" rx=\"27\" ry=\"18\"/>\n<text text-anchor=\"middle\" x=\"248\" y=\"-41.8\" font-family=\"Times,serif\" font-size=\"14.00\">*</text>\n</g>\n<!-- 133761437572240&#45;&gt;133761438500416* -->\n<g id=\"edge2\" class=\"edge\">\n<title>133761437572240&#45;&gt;133761438500416*</title>\n<path fill=\"none\" stroke=\"black\" d=\"M185.01,-56.81C194.49,-55.08 203.66,-53.41 211.9,-51.9\"/>\n<polygon fill=\"black\" stroke=\"black\" points=\"212.6,-55.33 221.81,-50.09 211.35,-48.45 212.6,-55.33\"/>\n</g>\n<!-- 133761438500416 -->\n<g id=\"node2\" class=\"node\">\n<title>133761438500416</title>\n<polygon fill=\"none\" stroke=\"black\" points=\"311,-27.5 311,-63.5 496,-63.5 496,-27.5 311,-27.5\"/>\n<text text-anchor=\"middle\" x=\"322.5\" y=\"-41.8\" font-family=\"Times,serif\" font-size=\"14.00\">c</text>\n<polyline fill=\"none\" stroke=\"black\" points=\"334,-27.5 334,-63.5 \"/>\n<text text-anchor=\"middle\" x=\"374\" y=\"-41.8\" font-family=\"Times,serif\" font-size=\"14.00\">data 6.0000</text>\n<polyline fill=\"none\" stroke=\"black\" points=\"414,-27.5 414,-63.5 \"/>\n<text text-anchor=\"middle\" x=\"455\" y=\"-41.8\" font-family=\"Times,serif\" font-size=\"14.00\">grad 0.0000</text>\n</g>\n<!-- 133761438500416*&#45;&gt;133761438500416 -->\n<g id=\"edge1\" class=\"edge\">\n<title>133761438500416*&#45;&gt;133761438500416</title>\n<path fill=\"none\" stroke=\"black\" d=\"M275.04,-45.5C282.58,-45.5 291.3,-45.5 300.57,-45.5\"/>\n<polygon fill=\"black\" stroke=\"black\" points=\"300.81,-49 310.81,-45.5 300.81,-42 300.81,-49\"/>\n</g>\n<!-- 133761437573440 -->\n<g id=\"node4\" class=\"node\">\n<title>133761437573440</title>\n<polygon fill=\"none\" stroke=\"black\" points=\"0,-0.5 0,-36.5 185,-36.5 185,-0.5 0,-0.5\"/>\n<text text-anchor=\"middle\" x=\"11.5\" y=\"-14.8\" font-family=\"Times,serif\" font-size=\"14.00\">a</text>\n<polyline fill=\"none\" stroke=\"black\" points=\"23,-0.5 23,-36.5 \"/>\n<text text-anchor=\"middle\" x=\"63\" y=\"-14.8\" font-family=\"Times,serif\" font-size=\"14.00\">data 2.0000</text>\n<polyline fill=\"none\" stroke=\"black\" points=\"103,-0.5 103,-36.5 \"/>\n<text text-anchor=\"middle\" x=\"144\" y=\"-14.8\" font-family=\"Times,serif\" font-size=\"14.00\">grad 0.0000</text>\n</g>\n<!-- 133761437573440&#45;&gt;133761438500416* -->\n<g id=\"edge3\" class=\"edge\">\n<title>133761437573440&#45;&gt;133761438500416*</title>\n<path fill=\"none\" stroke=\"black\" d=\"M185.01,-34.6C194.49,-36.26 203.66,-37.88 211.9,-39.33\"/>\n<polygon fill=\"black\" stroke=\"black\" points=\"211.36,-42.78 221.81,-41.07 212.57,-35.89 211.36,-42.78\"/>\n</g>\n</g>\n</svg>\n",
            "text/plain": [
              "<graphviz.graphs.Digraph at 0x79a7c306d7e0>"
            ]
          },
          "metadata": {},
          "execution_count": 154
        }
      ]
    },
    {
      "cell_type": "markdown",
      "source": [
        "We will discuss the grad part of a node later, we will now consider what this class do.\n",
        "\n",
        "When we call for __a = Value(2.0)__, we not only have a simple variable 'a' with float value 2.0, but also other attributes which helped for the Back Propagation process(again, we will talk about this in the next section, just keep in mind this)."
      ],
      "metadata": {
        "id": "IiT6h3EaOxUq"
      }
    },
    {
      "cell_type": "code",
      "source": [
        "print(a.data)\n",
        "print(a.grad)\n",
        "print(a._prev)\n",
        "print(a._op)"
      ],
      "metadata": {
        "colab": {
          "base_uri": "https://localhost:8080/"
        },
        "id": "t2tVZsWCPmlH",
        "outputId": "fab2685a-7d45-4c72-e0c8-21e26cb1d58f"
      },
      "execution_count": 93,
      "outputs": [
        {
          "output_type": "stream",
          "name": "stdout",
          "text": [
            "2.0\n",
            "0\n",
            "set()\n",
            "\n"
          ]
        }
      ]
    },
    {
      "cell_type": "markdown",
      "source": [
        "As you can see, \"a\" is a leaf node (that is, it node have any children) so the _prev will be an empty set, and _op will be \"\", it grad attribue is also 0 because we have not called for the backward of the very last function (i.e: c).\n",
        "Similarlly for \"b\" too (except b.data is 3.0).\n",
        "\n",
        "Let's take a look at \"c\":"
      ],
      "metadata": {
        "id": "vz0N66AtP-Eh"
      }
    },
    {
      "cell_type": "code",
      "source": [
        "print(c.data)\n",
        "print(c.grad)\n",
        "print(c._prev)\n",
        "print(c._op)"
      ],
      "metadata": {
        "colab": {
          "base_uri": "https://localhost:8080/"
        },
        "id": "aZN_emwwPrPw",
        "outputId": "4f6ea3b0-5696-4c59-d44c-5faee9193f35"
      },
      "execution_count": 94,
      "outputs": [
        {
          "output_type": "stream",
          "name": "stdout",
          "text": [
            "6.0\n",
            "0\n",
            "{Value(data=2.0, grad=0), Value(data=3.0, grad=0)}\n",
            "*\n"
          ]
        }
      ]
    },
    {
      "cell_type": "markdown",
      "source": [
        "As you can see, c._prev is a set which contain two Value objects (corresponding to \"a\" and \"b\") and because c = a*b, c._op will be \"*\", the grad is 0 becuase this is the forward pass (the stage that we only calculate the result of the very last function \"c\", not calculate the gradient yet)."
      ],
      "metadata": {
        "id": "ChS6tkHkQoXy"
      }
    },
    {
      "cell_type": "markdown",
      "source": [
        "So briefly, this class will hold the value of the variable, the operations which make this variables as well as set of other variables which produce this variable."
      ],
      "metadata": {
        "id": "JfwexRCDRjsk"
      }
    },
    {
      "cell_type": "markdown",
      "source": [
        "Moreover, we also define the operation that can be use between __Value__ object which is adding, subtracting, multiplying, dividing, exponenting,... and also handle converting other data type to __Value__ object (like a + 2 which a is Value object). One more notice is that, we convert the division operations is get exponent by -1 which (so as you can see in the class, we mainly have three operation that is adding, multiplying and exponenting)."
      ],
      "metadata": {
        "id": "fJZlVyXUSDBN"
      }
    },
    {
      "cell_type": "markdown",
      "source": [
        "The code below test for some operation that we can do with __Value__ obeject (quite messy but good for illustration)."
      ],
      "metadata": {
        "id": "MX-pevZbUgys"
      }
    },
    {
      "cell_type": "code",
      "source": [
        "a = Value(-4.0,label=\"a\")\n",
        "b = Value(2.0,label=\"b\")\n",
        "c = a + b; c.label = \"c\"\n",
        "d = a * b + b**3; d.label = \"d\"\n",
        "c += c + 1\n",
        "c += 1 + c + (-a)# -1.0\n",
        "d += d * 2 + (b + a)\n",
        "d += 3 * d + (b - a) # -2.0\n",
        "e = c - d; e.label = \"e\" # 1.0\n",
        "f = e**2; f.label = \"f\" # 1.0\n",
        "g = f / 2.0\n",
        "g += 10.0 / f; g.label = \"g\" # 10.5"
      ],
      "metadata": {
        "id": "EqLL2deLWM-L"
      },
      "execution_count": 198,
      "outputs": []
    },
    {
      "cell_type": "code",
      "source": [
        "print(a.label,a.data)\n",
        "print(b.label,b.data)\n",
        "print(c.label,c.data)\n",
        "print(d.label,d.data)\n",
        "print(e.label,e.data)\n",
        "print(f.label,f.data)\n",
        "print(g.label,g.data)"
      ],
      "metadata": {
        "colab": {
          "base_uri": "https://localhost:8080/"
        },
        "id": "N3rhtYlFUBPA",
        "outputId": "1af69707-ed47-4d08-bc7b-5cd2f9d3b799"
      },
      "execution_count": 199,
      "outputs": [
        {
          "output_type": "stream",
          "name": "stdout",
          "text": [
            "a -4.0\n",
            "b 2.0\n",
            "c -1.0\n",
            "d -2.0\n",
            "e 1.0\n",
            "f 1.0\n",
            "g 10.5\n"
          ]
        }
      ]
    },
    {
      "cell_type": "code",
      "source": [
        "a = Value(-4.0,label=\"a\")\n",
        "b = Value(2.0,label=\"b\")\n",
        "c = a + b; c.label = \"c\" #-2.0\n",
        "d = a * b + b**3; d.label = \"d\" # 0.0\n",
        "d -= -c\n",
        "\n",
        "draw_dot(d)"
      ],
      "metadata": {
        "colab": {
          "base_uri": "https://localhost:8080/",
          "height": 321
        },
        "id": "-CdDRfqiUDWt",
        "outputId": "7eef876f-5b4f-45a7-f838-5e08347b5e97"
      },
      "execution_count": 202,
      "outputs": [
        {
          "output_type": "execute_result",
          "data": {
            "image/svg+xml": "<?xml version=\"1.0\" encoding=\"UTF-8\" standalone=\"no\"?>\n<!DOCTYPE svg PUBLIC \"-//W3C//DTD SVG 1.1//EN\"\n \"http://www.w3.org/Graphics/SVG/1.1/DTD/svg11.dtd\">\n<!-- Generated by graphviz version 2.43.0 (0)\n -->\n<!-- Title: %3 Pages: 1 -->\n<svg width=\"1590pt\" height=\"210pt\"\n viewBox=\"0.00 0.00 1590.00 210.00\" xmlns=\"http://www.w3.org/2000/svg\" xmlns:xlink=\"http://www.w3.org/1999/xlink\">\n<g id=\"graph0\" class=\"graph\" transform=\"scale(1 1) rotate(0) translate(4 206)\">\n<title>%3</title>\n<polygon fill=\"white\" stroke=\"transparent\" points=\"-4,4 -4,-206 1586,-206 1586,4 -4,4\"/>\n<!-- 133761437574688 -->\n<g id=\"node1\" class=\"node\">\n<title>133761437574688</title>\n<polygon fill=\"none\" stroke=\"black\" points=\"316,-55.5 316,-91.5 506,-91.5 506,-55.5 316,-55.5\"/>\n<text text-anchor=\"middle\" x=\"327.5\" y=\"-69.8\" font-family=\"Times,serif\" font-size=\"14.00\">a</text>\n<polyline fill=\"none\" stroke=\"black\" points=\"339,-55.5 339,-91.5 \"/>\n<text text-anchor=\"middle\" x=\"381.5\" y=\"-69.8\" font-family=\"Times,serif\" font-size=\"14.00\">data &#45;8.0000</text>\n<polyline fill=\"none\" stroke=\"black\" points=\"424,-55.5 424,-91.5 \"/>\n<text text-anchor=\"middle\" x=\"465\" y=\"-69.8\" font-family=\"Times,serif\" font-size=\"14.00\">grad 0.0000</text>\n</g>\n<!-- 133761437572768+ -->\n<g id=\"node12\" class=\"node\">\n<title>133761437572768+</title>\n<ellipse fill=\"none\" stroke=\"black\" cx=\"569\" cy=\"-73.5\" rx=\"27\" ry=\"18\"/>\n<text text-anchor=\"middle\" x=\"569\" y=\"-69.8\" font-family=\"Times,serif\" font-size=\"14.00\">+</text>\n</g>\n<!-- 133761437574688&#45;&gt;133761437572768+ -->\n<g id=\"edge16\" class=\"edge\">\n<title>133761437574688&#45;&gt;133761437572768+</title>\n<path fill=\"none\" stroke=\"black\" d=\"M506.34,-73.5C515.26,-73.5 523.87,-73.5 531.69,-73.5\"/>\n<polygon fill=\"black\" stroke=\"black\" points=\"531.82,-77 541.82,-73.5 531.82,-70 531.82,-77\"/>\n</g>\n<!-- 133761437574688* -->\n<g id=\"node2\" class=\"node\">\n<title>133761437574688*</title>\n<ellipse fill=\"none\" stroke=\"black\" cx=\"253\" cy=\"-73.5\" rx=\"27\" ry=\"18\"/>\n<text text-anchor=\"middle\" x=\"253\" y=\"-69.8\" font-family=\"Times,serif\" font-size=\"14.00\">*</text>\n</g>\n<!-- 133761437574688*&#45;&gt;133761437574688 -->\n<g id=\"edge1\" class=\"edge\">\n<title>133761437574688*&#45;&gt;133761437574688</title>\n<path fill=\"none\" stroke=\"black\" d=\"M280.11,-73.5C287.63,-73.5 296.32,-73.5 305.58,-73.5\"/>\n<polygon fill=\"black\" stroke=\"black\" points=\"305.81,-77 315.81,-73.5 305.81,-70 305.81,-77\"/>\n</g>\n<!-- 133761437576848 -->\n<g id=\"node3\" class=\"node\">\n<title>133761437576848</title>\n<polygon fill=\"none\" stroke=\"black\" points=\"1076,-108.5 1076,-144.5 1266,-144.5 1266,-108.5 1076,-108.5\"/>\n<text text-anchor=\"middle\" x=\"1087.5\" y=\"-122.8\" font-family=\"Times,serif\" font-size=\"14.00\">c</text>\n<polyline fill=\"none\" stroke=\"black\" points=\"1099,-108.5 1099,-144.5 \"/>\n<text text-anchor=\"middle\" x=\"1141.5\" y=\"-122.8\" font-family=\"Times,serif\" font-size=\"14.00\">data &#45;2.0000</text>\n<polyline fill=\"none\" stroke=\"black\" points=\"1184,-108.5 1184,-144.5 \"/>\n<text text-anchor=\"middle\" x=\"1225\" y=\"-122.8\" font-family=\"Times,serif\" font-size=\"14.00\">grad 0.0000</text>\n</g>\n<!-- 133761437567680+ -->\n<g id=\"node9\" class=\"node\">\n<title>133761437567680+</title>\n<ellipse fill=\"none\" stroke=\"black\" cx=\"1329\" cy=\"-100.5\" rx=\"27\" ry=\"18\"/>\n<text text-anchor=\"middle\" x=\"1329\" y=\"-96.8\" font-family=\"Times,serif\" font-size=\"14.00\">+</text>\n</g>\n<!-- 133761437576848&#45;&gt;133761437567680+ -->\n<g id=\"edge12\" class=\"edge\">\n<title>133761437576848&#45;&gt;133761437567680+</title>\n<path fill=\"none\" stroke=\"black\" d=\"M1266.34,-110.78C1275.62,-109.23 1284.58,-107.74 1292.66,-106.39\"/>\n<polygon fill=\"black\" stroke=\"black\" points=\"1293.43,-109.81 1302.72,-104.71 1292.28,-102.91 1293.43,-109.81\"/>\n</g>\n<!-- 133761437576848* -->\n<g id=\"node4\" class=\"node\">\n<title>133761437576848*</title>\n<ellipse fill=\"none\" stroke=\"black\" cx=\"947.5\" cy=\"-128.5\" rx=\"27\" ry=\"18\"/>\n<text text-anchor=\"middle\" x=\"947.5\" y=\"-124.8\" font-family=\"Times,serif\" font-size=\"14.00\">*</text>\n</g>\n<!-- 133761437576848*&#45;&gt;133761437576848 -->\n<g id=\"edge2\" class=\"edge\">\n<title>133761437576848*&#45;&gt;133761437576848</title>\n<path fill=\"none\" stroke=\"black\" d=\"M974.78,-128.26C997.47,-128.06 1031.81,-127.75 1065.39,-127.44\"/>\n<polygon fill=\"black\" stroke=\"black\" points=\"1065.81,-130.94 1075.78,-127.35 1065.75,-123.94 1065.81,-130.94\"/>\n</g>\n<!-- 133761438512800 -->\n<g id=\"node5\" class=\"node\">\n<title>133761438512800</title>\n<polygon fill=\"none\" stroke=\"black\" points=\"2.5,-54.5 2.5,-90.5 187.5,-90.5 187.5,-54.5 2.5,-54.5\"/>\n<text text-anchor=\"middle\" x=\"14\" y=\"-68.8\" font-family=\"Times,serif\" font-size=\"14.00\">b</text>\n<polyline fill=\"none\" stroke=\"black\" points=\"25.5,-54.5 25.5,-90.5 \"/>\n<text text-anchor=\"middle\" x=\"65.5\" y=\"-68.8\" font-family=\"Times,serif\" font-size=\"14.00\">data 2.0000</text>\n<polyline fill=\"none\" stroke=\"black\" points=\"105.5,-54.5 105.5,-90.5 \"/>\n<text text-anchor=\"middle\" x=\"146.5\" y=\"-68.8\" font-family=\"Times,serif\" font-size=\"14.00\">grad 0.0000</text>\n</g>\n<!-- 133761438512800&#45;&gt;133761437574688* -->\n<g id=\"edge17\" class=\"edge\">\n<title>133761438512800&#45;&gt;133761437574688*</title>\n<path fill=\"none\" stroke=\"black\" d=\"M187.65,-73.09C197.55,-73.15 207.15,-73.21 215.78,-73.27\"/>\n<polygon fill=\"black\" stroke=\"black\" points=\"215.76,-76.77 225.78,-73.33 215.8,-69.77 215.76,-76.77\"/>\n</g>\n<!-- 133761437575936+ -->\n<g id=\"node14\" class=\"node\">\n<title>133761437575936+</title>\n<ellipse fill=\"none\" stroke=\"black\" cx=\"253\" cy=\"-127.5\" rx=\"27\" ry=\"18\"/>\n<text text-anchor=\"middle\" x=\"253\" y=\"-123.8\" font-family=\"Times,serif\" font-size=\"14.00\">+</text>\n</g>\n<!-- 133761438512800&#45;&gt;133761437575936+ -->\n<g id=\"edge11\" class=\"edge\">\n<title>133761438512800&#45;&gt;133761437575936+</title>\n<path fill=\"none\" stroke=\"black\" d=\"M163.39,-90.58C172.4,-93.37 181.47,-96.37 190,-99.5 200.5,-103.36 211.72,-108.19 221.69,-112.76\"/>\n<polygon fill=\"black\" stroke=\"black\" points=\"220.26,-115.95 230.8,-117.01 223.21,-109.61 220.26,-115.95\"/>\n</g>\n<!-- 133761437580256**3 -->\n<g id=\"node18\" class=\"node\">\n<title>133761437580256**3</title>\n<ellipse fill=\"none\" stroke=\"black\" cx=\"253\" cy=\"-19.5\" rx=\"27\" ry=\"18\"/>\n<text text-anchor=\"middle\" x=\"253\" y=\"-15.8\" font-family=\"Times,serif\" font-size=\"14.00\">**3</text>\n</g>\n<!-- 133761438512800&#45;&gt;133761437580256**3 -->\n<g id=\"edge14\" class=\"edge\">\n<title>133761438512800&#45;&gt;133761437580256**3</title>\n<path fill=\"none\" stroke=\"black\" d=\"M149.25,-54.41C172.36,-46.56 198.69,-37.61 218.92,-30.74\"/>\n<polygon fill=\"black\" stroke=\"black\" points=\"220.26,-33.98 228.6,-27.45 218.01,-27.35 220.26,-33.98\"/>\n</g>\n<!-- 133761437571760 -->\n<g id=\"node6\" class=\"node\">\n<title>133761437571760</title>\n<polygon fill=\"none\" stroke=\"black\" points=\"633,-110.5 633,-146.5 818,-146.5 818,-110.5 633,-110.5\"/>\n<text text-anchor=\"middle\" x=\"644.5\" y=\"-124.8\" font-family=\"Times,serif\" font-size=\"14.00\">c</text>\n<polyline fill=\"none\" stroke=\"black\" points=\"656,-110.5 656,-146.5 \"/>\n<text text-anchor=\"middle\" x=\"696\" y=\"-124.8\" font-family=\"Times,serif\" font-size=\"14.00\">data 2.0000</text>\n<polyline fill=\"none\" stroke=\"black\" points=\"736,-110.5 736,-146.5 \"/>\n<text text-anchor=\"middle\" x=\"777\" y=\"-124.8\" font-family=\"Times,serif\" font-size=\"14.00\">grad 0.0000</text>\n</g>\n<!-- 133761437571760&#45;&gt;133761437576848* -->\n<g id=\"edge19\" class=\"edge\">\n<title>133761437571760&#45;&gt;133761437576848*</title>\n<path fill=\"none\" stroke=\"black\" d=\"M818.21,-128.5C850.6,-128.5 885.17,-128.5 910.25,-128.5\"/>\n<polygon fill=\"black\" stroke=\"black\" points=\"910.39,-132 920.39,-128.5 910.39,-125 910.39,-132\"/>\n</g>\n<!-- 133761437571760* -->\n<g id=\"node7\" class=\"node\">\n<title>133761437571760*</title>\n<ellipse fill=\"none\" stroke=\"black\" cx=\"569\" cy=\"-128.5\" rx=\"27\" ry=\"18\"/>\n<text text-anchor=\"middle\" x=\"569\" y=\"-124.8\" font-family=\"Times,serif\" font-size=\"14.00\">*</text>\n</g>\n<!-- 133761437571760*&#45;&gt;133761437571760 -->\n<g id=\"edge3\" class=\"edge\">\n<title>133761437571760*&#45;&gt;133761437571760</title>\n<path fill=\"none\" stroke=\"black\" d=\"M596.21,-128.5C604,-128.5 613.05,-128.5 622.67,-128.5\"/>\n<polygon fill=\"black\" stroke=\"black\" points=\"622.87,-132 632.87,-128.5 622.87,-125 622.87,-132\"/>\n</g>\n<!-- 133761437567680 -->\n<g id=\"node8\" class=\"node\">\n<title>133761437567680</title>\n<polygon fill=\"none\" stroke=\"black\" points=\"1392,-82.5 1392,-118.5 1582,-118.5 1582,-82.5 1392,-82.5\"/>\n<text text-anchor=\"middle\" x=\"1403.5\" y=\"-96.8\" font-family=\"Times,serif\" font-size=\"14.00\">d</text>\n<polyline fill=\"none\" stroke=\"black\" points=\"1415,-82.5 1415,-118.5 \"/>\n<text text-anchor=\"middle\" x=\"1457.5\" y=\"-96.8\" font-family=\"Times,serif\" font-size=\"14.00\">data &#45;2.0000</text>\n<polyline fill=\"none\" stroke=\"black\" points=\"1500,-82.5 1500,-118.5 \"/>\n<text text-anchor=\"middle\" x=\"1541\" y=\"-96.8\" font-family=\"Times,serif\" font-size=\"14.00\">grad 0.0000</text>\n</g>\n<!-- 133761437567680+&#45;&gt;133761437567680 -->\n<g id=\"edge4\" class=\"edge\">\n<title>133761437567680+&#45;&gt;133761437567680</title>\n<path fill=\"none\" stroke=\"black\" d=\"M1356.11,-100.5C1363.63,-100.5 1372.32,-100.5 1381.58,-100.5\"/>\n<polygon fill=\"black\" stroke=\"black\" points=\"1381.81,-104 1391.81,-100.5 1381.81,-97 1381.81,-104\"/>\n</g>\n<!-- 133761436914864 -->\n<g id=\"node10\" class=\"node\">\n<title>133761436914864</title>\n<polygon fill=\"none\" stroke=\"black\" points=\"0,-109.5 0,-145.5 190,-145.5 190,-109.5 0,-109.5\"/>\n<text text-anchor=\"middle\" x=\"11.5\" y=\"-123.8\" font-family=\"Times,serif\" font-size=\"14.00\">a</text>\n<polyline fill=\"none\" stroke=\"black\" points=\"23,-109.5 23,-145.5 \"/>\n<text text-anchor=\"middle\" x=\"65.5\" y=\"-123.8\" font-family=\"Times,serif\" font-size=\"14.00\">data &#45;4.0000</text>\n<polyline fill=\"none\" stroke=\"black\" points=\"108,-109.5 108,-145.5 \"/>\n<text text-anchor=\"middle\" x=\"149\" y=\"-123.8\" font-family=\"Times,serif\" font-size=\"14.00\">grad 0.0000</text>\n</g>\n<!-- 133761436914864&#45;&gt;133761437574688* -->\n<g id=\"edge18\" class=\"edge\">\n<title>133761436914864&#45;&gt;133761437574688*</title>\n<path fill=\"none\" stroke=\"black\" d=\"M160.01,-109.44C170.1,-106.3 180.38,-102.94 190,-99.5 200.14,-95.88 211.02,-91.49 220.8,-87.36\"/>\n<polygon fill=\"black\" stroke=\"black\" points=\"222.32,-90.51 230.13,-83.35 219.56,-84.08 222.32,-90.51\"/>\n</g>\n<!-- 133761436914864&#45;&gt;133761437575936+ -->\n<g id=\"edge15\" class=\"edge\">\n<title>133761436914864&#45;&gt;133761437575936+</title>\n<path fill=\"none\" stroke=\"black\" d=\"M190.34,-127.5C199.26,-127.5 207.87,-127.5 215.69,-127.5\"/>\n<polygon fill=\"black\" stroke=\"black\" points=\"215.82,-131 225.82,-127.5 215.82,-124 215.82,-131\"/>\n</g>\n<!-- 133761437572768 -->\n<g id=\"node11\" class=\"node\">\n<title>133761437572768</title>\n<polygon fill=\"none\" stroke=\"black\" points=\"855,-55.5 855,-91.5 1040,-91.5 1040,-55.5 855,-55.5\"/>\n<text text-anchor=\"middle\" x=\"866.5\" y=\"-69.8\" font-family=\"Times,serif\" font-size=\"14.00\">d</text>\n<polyline fill=\"none\" stroke=\"black\" points=\"878,-55.5 878,-91.5 \"/>\n<text text-anchor=\"middle\" x=\"918\" y=\"-69.8\" font-family=\"Times,serif\" font-size=\"14.00\">data 0.0000</text>\n<polyline fill=\"none\" stroke=\"black\" points=\"958,-55.5 958,-91.5 \"/>\n<text text-anchor=\"middle\" x=\"999\" y=\"-69.8\" font-family=\"Times,serif\" font-size=\"14.00\">grad 0.0000</text>\n</g>\n<!-- 133761437572768&#45;&gt;133761437567680+ -->\n<g id=\"edge20\" class=\"edge\">\n<title>133761437572768&#45;&gt;133761437567680+</title>\n<path fill=\"none\" stroke=\"black\" d=\"M1040.37,-80.04C1121.11,-85.78 1234.42,-93.84 1291.74,-97.92\"/>\n<polygon fill=\"black\" stroke=\"black\" points=\"1291.55,-101.42 1301.77,-98.63 1292.04,-94.43 1291.55,-101.42\"/>\n</g>\n<!-- 133761437572768+&#45;&gt;133761437572768 -->\n<g id=\"edge5\" class=\"edge\">\n<title>133761437572768+&#45;&gt;133761437572768</title>\n<path fill=\"none\" stroke=\"black\" d=\"M596.18,-73.5C646.81,-73.5 760.61,-73.5 844.84,-73.5\"/>\n<polygon fill=\"black\" stroke=\"black\" points=\"844.96,-77 854.96,-73.5 844.96,-70 844.96,-77\"/>\n</g>\n<!-- 133761437575936 -->\n<g id=\"node13\" class=\"node\">\n<title>133761437575936</title>\n<polygon fill=\"none\" stroke=\"black\" points=\"316,-110.5 316,-146.5 506,-146.5 506,-110.5 316,-110.5\"/>\n<text text-anchor=\"middle\" x=\"327.5\" y=\"-124.8\" font-family=\"Times,serif\" font-size=\"14.00\">c</text>\n<polyline fill=\"none\" stroke=\"black\" points=\"339,-110.5 339,-146.5 \"/>\n<text text-anchor=\"middle\" x=\"381.5\" y=\"-124.8\" font-family=\"Times,serif\" font-size=\"14.00\">data &#45;2.0000</text>\n<polyline fill=\"none\" stroke=\"black\" points=\"424,-110.5 424,-146.5 \"/>\n<text text-anchor=\"middle\" x=\"465\" y=\"-124.8\" font-family=\"Times,serif\" font-size=\"14.00\">grad 0.0000</text>\n</g>\n<!-- 133761437575936&#45;&gt;133761437571760* -->\n<g id=\"edge8\" class=\"edge\">\n<title>133761437575936&#45;&gt;133761437571760*</title>\n<path fill=\"none\" stroke=\"black\" d=\"M506.34,-128.5C515.26,-128.5 523.87,-128.5 531.69,-128.5\"/>\n<polygon fill=\"black\" stroke=\"black\" points=\"531.82,-132 541.82,-128.5 531.82,-125 531.82,-132\"/>\n</g>\n<!-- 133761437575936+&#45;&gt;133761437575936 -->\n<g id=\"edge6\" class=\"edge\">\n<title>133761437575936+&#45;&gt;133761437575936</title>\n<path fill=\"none\" stroke=\"black\" d=\"M280.11,-127.67C287.63,-127.72 296.32,-127.77 305.58,-127.83\"/>\n<polygon fill=\"black\" stroke=\"black\" points=\"305.79,-131.33 315.81,-127.9 305.83,-124.33 305.79,-131.33\"/>\n</g>\n<!-- 133761437579536 -->\n<g id=\"node15\" class=\"node\">\n<title>133761437579536</title>\n<polygon fill=\"none\" stroke=\"black\" points=\"632,-165.5 632,-201.5 819,-201.5 819,-165.5 632,-165.5\"/>\n<text text-anchor=\"middle\" x=\"642\" y=\"-179.8\" font-family=\"Times,serif\" font-size=\"14.00\"> </text>\n<polyline fill=\"none\" stroke=\"black\" points=\"652,-165.5 652,-201.5 \"/>\n<text text-anchor=\"middle\" x=\"694.5\" y=\"-179.8\" font-family=\"Times,serif\" font-size=\"14.00\">data &#45;1.0000</text>\n<polyline fill=\"none\" stroke=\"black\" points=\"737,-165.5 737,-201.5 \"/>\n<text text-anchor=\"middle\" x=\"778\" y=\"-179.8\" font-family=\"Times,serif\" font-size=\"14.00\">grad 0.0000</text>\n</g>\n<!-- 133761437579536&#45;&gt;133761437576848* -->\n<g id=\"edge9\" class=\"edge\">\n<title>133761437579536&#45;&gt;133761437576848*</title>\n<path fill=\"none\" stroke=\"black\" d=\"M798.54,-165.49C836.65,-155.96 881.69,-144.7 911.99,-137.13\"/>\n<polygon fill=\"black\" stroke=\"black\" points=\"913.2,-140.43 922.05,-134.61 911.5,-133.64 913.2,-140.43\"/>\n</g>\n<!-- 133761437567440 -->\n<g id=\"node16\" class=\"node\">\n<title>133761437567440</title>\n<polygon fill=\"none\" stroke=\"black\" points=\"317.5,-165.5 317.5,-201.5 504.5,-201.5 504.5,-165.5 317.5,-165.5\"/>\n<text text-anchor=\"middle\" x=\"327.5\" y=\"-179.8\" font-family=\"Times,serif\" font-size=\"14.00\"> </text>\n<polyline fill=\"none\" stroke=\"black\" points=\"337.5,-165.5 337.5,-201.5 \"/>\n<text text-anchor=\"middle\" x=\"380\" y=\"-179.8\" font-family=\"Times,serif\" font-size=\"14.00\">data &#45;1.0000</text>\n<polyline fill=\"none\" stroke=\"black\" points=\"422.5,-165.5 422.5,-201.5 \"/>\n<text text-anchor=\"middle\" x=\"463.5\" y=\"-179.8\" font-family=\"Times,serif\" font-size=\"14.00\">grad 0.0000</text>\n</g>\n<!-- 133761437567440&#45;&gt;133761437571760* -->\n<g id=\"edge10\" class=\"edge\">\n<title>133761437567440&#45;&gt;133761437571760*</title>\n<path fill=\"none\" stroke=\"black\" d=\"M479.39,-165.42C488.4,-162.63 497.47,-159.63 506,-156.5 516.5,-152.64 527.72,-147.81 537.69,-143.24\"/>\n<polygon fill=\"black\" stroke=\"black\" points=\"539.21,-146.39 546.8,-138.99 536.26,-140.05 539.21,-146.39\"/>\n</g>\n<!-- 133761437580256 -->\n<g id=\"node17\" class=\"node\">\n<title>133761437580256</title>\n<polygon fill=\"none\" stroke=\"black\" points=\"320,-0.5 320,-36.5 502,-36.5 502,-0.5 320,-0.5\"/>\n<text text-anchor=\"middle\" x=\"330\" y=\"-14.8\" font-family=\"Times,serif\" font-size=\"14.00\"> </text>\n<polyline fill=\"none\" stroke=\"black\" points=\"340,-0.5 340,-36.5 \"/>\n<text text-anchor=\"middle\" x=\"380\" y=\"-14.8\" font-family=\"Times,serif\" font-size=\"14.00\">data 8.0000</text>\n<polyline fill=\"none\" stroke=\"black\" points=\"420,-0.5 420,-36.5 \"/>\n<text text-anchor=\"middle\" x=\"461\" y=\"-14.8\" font-family=\"Times,serif\" font-size=\"14.00\">grad 0.0000</text>\n</g>\n<!-- 133761437580256&#45;&gt;133761437572768+ -->\n<g id=\"edge13\" class=\"edge\">\n<title>133761437580256&#45;&gt;133761437572768+</title>\n<path fill=\"none\" stroke=\"black\" d=\"M479.39,-36.58C488.4,-39.37 497.47,-42.37 506,-45.5 516.5,-49.36 527.72,-54.19 537.69,-58.76\"/>\n<polygon fill=\"black\" stroke=\"black\" points=\"536.26,-61.95 546.8,-63.01 539.21,-55.61 536.26,-61.95\"/>\n</g>\n<!-- 133761437580256**3&#45;&gt;133761437580256 -->\n<g id=\"edge7\" class=\"edge\">\n<title>133761437580256**3&#45;&gt;133761437580256</title>\n<path fill=\"none\" stroke=\"black\" d=\"M280.11,-19.33C288.74,-19.28 298.93,-19.21 309.74,-19.14\"/>\n<polygon fill=\"black\" stroke=\"black\" points=\"309.83,-22.64 319.81,-19.08 309.79,-15.64 309.83,-22.64\"/>\n</g>\n</g>\n</svg>\n",
            "text/plain": [
              "<graphviz.graphs.Digraph at 0x79a7c2eeb010>"
            ]
          },
          "metadata": {},
          "execution_count": 202
        }
      ]
    },
    {
      "cell_type": "markdown",
      "source": [
        "In this section, we have consider the implementation half of the class __Value__, specifically, attributes and operation on the __Value__ object. We are ready to move to the most interesting part, __Back Propagation__."
      ],
      "metadata": {
        "id": "_NWLTyp8lhGa"
      }
    },
    {
      "cell_type": "markdown",
      "source": [
        "# III. Back Propagation"
      ],
      "metadata": {
        "id": "LvwWCVDbmI31"
      }
    },
    {
      "cell_type": "markdown",
      "source": [
        "Remeber in section __II__, each node will have an attribute call \"grad\". As mention before, we will use this attribute to store (precisely accumulate) the gradient of the very last function with respect to the variable of the node.\n",
        "\n",
        "To have a better look, let's consider the following example:"
      ],
      "metadata": {
        "id": "fNTOlUmPmbUV"
      }
    },
    {
      "cell_type": "code",
      "source": [
        "a = Value(2.0, label='a')\n",
        "b = Value(-3.0, label='b')\n",
        "c = Value(10.0, label='c')\n",
        "e = a*b; e.label = 'e'\n",
        "d = e + c; d.label = 'd'\n",
        "f = Value(-2.0, label='f')\n",
        "L = d * f; L.label = 'L'\n",
        "L"
      ],
      "metadata": {
        "colab": {
          "base_uri": "https://localhost:8080/"
        },
        "id": "iSLqg5q1mab4",
        "outputId": "3e00c76e-3202-4488-feec-df0bb2d938f7"
      },
      "execution_count": 203,
      "outputs": [
        {
          "output_type": "execute_result",
          "data": {
            "text/plain": [
              "Value(data=-8.0, grad=0)"
            ]
          },
          "metadata": {},
          "execution_count": 203
        }
      ]
    },
    {
      "cell_type": "markdown",
      "source": [
        "The expression of L is L = (a*b + c) *d, which have four free variables a,b,c and f. The forward pass is the process we get the input, put all of them to the function to get the result. Then, after having the result of the function, we can do the backward pass by consecutively find the Gradient of each variable (not only free variable like a,b,c,d, but also for variables like e,d). That is, we will find:\n",
        "\n",
        "- $∇L/∇f$\n",
        "\n",
        "- $∇L/∇d$\n",
        "\n",
        "- $∇L/∇e$\n",
        "\n",
        "-  $∇L/∇c$\n",
        "\n",
        "- $∇L/∇a$\n",
        "\n",
        "- $∇L/∇b$"
      ],
      "metadata": {
        "id": "Irc_WLYUnQOZ"
      }
    },
    {
      "cell_type": "markdown",
      "source": [
        "Remark, our goal in doing this is to optimize the model by update the model parameters such that it will minimize the loss function, and we do that by finding the direction (gradient) in which each weight should move (or change). That is, when we done finding these gradient, we will do like: a - $α$$∇L/∇a$ as before."
      ],
      "metadata": {
        "id": "WEsU4PoarRiQ"
      }
    },
    {
      "cell_type": "markdown",
      "source": [
        "Beside that, you may wondering why we need to calculate the gradient of the variables e and d right, isn't we just need to calculate directly the gradient for a,b,c and f. That correct, but now the magic of calculus come in, that is the Chain Rule."
      ],
      "metadata": {
        "id": "Abr-EoWdsCmO"
      }
    },
    {
      "cell_type": "markdown",
      "source": [
        "## Chain Rule"
      ],
      "metadata": {
        "id": "m7Z1zHs3sp4I"
      }
    },
    {
      "cell_type": "markdown",
      "source": [
        "The Chain Rule tell us that:\n",
        "\n",
        "If a variable z depends on the variable y, which itself depends on the variable x (that is, y and z are dependent variables), then z depends on x as well, via the intermediate variable y. In this case, the chain rule is expressed as, we will have:\n",
        "\n",
        "$\\frac{∇z}{∇x}$ = $\\frac{∇z}{∇y}$.$\\frac{∇y}{∇x}$"
      ],
      "metadata": {
        "id": "1WPC8vsWsyJr"
      }
    },
    {
      "cell_type": "markdown",
      "source": [
        "So, instead of explore the whole expression of L and take derivative step by step, we can do directly as below:\n",
        "\n",
        "$\\frac{∇L}{∇a}$ = $\\frac{∇L}{∇e}$.$\\frac{∇e}{∇a}$\n",
        "\n",
        "This is the reason why we will calculate the gradient for all the variables not just the free one. At each time, a node will have an accumulate gradient itself (from the above node), these accumulate gradient will fall back to its childrens node (corresponding to the expression of the current node, we will have different amount of gradient fall back).\n",
        "\n",
        "You can imagine it as the from very last function, the gradient will fall back to the previous node, and for each node, the gradient continue to fall back to others. In the end, what we have is a node not only have the data, but also the gradient that fall back from the very last function.\n",
        "\n",
        "We call this is Back Propagation."
      ],
      "metadata": {
        "id": "s6FxGOtvtdHk"
      }
    },
    {
      "cell_type": "markdown",
      "source": [
        "## Back Propagation"
      ],
      "metadata": {
        "id": "dpxNGH2AANzb"
      }
    },
    {
      "cell_type": "markdown",
      "source": [
        "We have construct the function L = (a * b + c)*d, let call the backward() function to do the Back Propagation."
      ],
      "metadata": {
        "id": "Yxi4__1aAYMT"
      }
    },
    {
      "cell_type": "code",
      "source": [
        "L.backward()"
      ],
      "metadata": {
        "id": "SYMuZQi6tD1f"
      },
      "execution_count": 204,
      "outputs": []
    },
    {
      "cell_type": "code",
      "source": [
        "draw_dot(L)"
      ],
      "metadata": {
        "colab": {
          "base_uri": "https://localhost:8080/",
          "height": 246
        },
        "id": "24brQPWKApa4",
        "outputId": "63318a3e-c9d4-45f9-cb9b-6cc022a8bfd8"
      },
      "execution_count": 205,
      "outputs": [
        {
          "output_type": "execute_result",
          "data": {
            "image/svg+xml": "<?xml version=\"1.0\" encoding=\"UTF-8\" standalone=\"no\"?>\n<!DOCTYPE svg PUBLIC \"-//W3C//DTD SVG 1.1//EN\"\n \"http://www.w3.org/Graphics/SVG/1.1/DTD/svg11.dtd\">\n<!-- Generated by graphviz version 2.43.0 (0)\n -->\n<!-- Title: %3 Pages: 1 -->\n<svg width=\"1157pt\" height=\"154pt\"\n viewBox=\"0.00 0.00 1157.00 154.00\" xmlns=\"http://www.w3.org/2000/svg\" xmlns:xlink=\"http://www.w3.org/1999/xlink\">\n<g id=\"graph0\" class=\"graph\" transform=\"scale(1 1) rotate(0) translate(4 150)\">\n<title>%3</title>\n<polygon fill=\"white\" stroke=\"transparent\" points=\"-4,4 -4,-150 1153,-150 1153,4 -4,4\"/>\n<!-- 133761437235712 -->\n<g id=\"node1\" class=\"node\">\n<title>133761437235712</title>\n<polygon fill=\"none\" stroke=\"black\" points=\"957,-81.5 957,-117.5 1149,-117.5 1149,-81.5 957,-81.5\"/>\n<text text-anchor=\"middle\" x=\"969.5\" y=\"-95.8\" font-family=\"Times,serif\" font-size=\"14.00\">L</text>\n<polyline fill=\"none\" stroke=\"black\" points=\"982,-81.5 982,-117.5 \"/>\n<text text-anchor=\"middle\" x=\"1024.5\" y=\"-95.8\" font-family=\"Times,serif\" font-size=\"14.00\">data &#45;8.0000</text>\n<polyline fill=\"none\" stroke=\"black\" points=\"1067,-81.5 1067,-117.5 \"/>\n<text text-anchor=\"middle\" x=\"1108\" y=\"-95.8\" font-family=\"Times,serif\" font-size=\"14.00\">grad 1.0000</text>\n</g>\n<!-- 133761437235712* -->\n<g id=\"node2\" class=\"node\">\n<title>133761437235712*</title>\n<ellipse fill=\"none\" stroke=\"black\" cx=\"894\" cy=\"-99.5\" rx=\"27\" ry=\"18\"/>\n<text text-anchor=\"middle\" x=\"894\" y=\"-95.8\" font-family=\"Times,serif\" font-size=\"14.00\">*</text>\n</g>\n<!-- 133761437235712*&#45;&gt;133761437235712 -->\n<g id=\"edge1\" class=\"edge\">\n<title>133761437235712*&#45;&gt;133761437235712</title>\n<path fill=\"none\" stroke=\"black\" d=\"M921.28,-99.5C928.78,-99.5 937.44,-99.5 946.67,-99.5\"/>\n<polygon fill=\"black\" stroke=\"black\" points=\"946.87,-103 956.87,-99.5 946.87,-96 946.87,-103\"/>\n</g>\n<!-- 133761438504448 -->\n<g id=\"node3\" class=\"node\">\n<title>133761438504448</title>\n<polygon fill=\"none\" stroke=\"black\" points=\"320,-82.5 320,-118.5 516,-118.5 516,-82.5 320,-82.5\"/>\n<text text-anchor=\"middle\" x=\"331.5\" y=\"-96.8\" font-family=\"Times,serif\" font-size=\"14.00\">c</text>\n<polyline fill=\"none\" stroke=\"black\" points=\"343,-82.5 343,-118.5 \"/>\n<text text-anchor=\"middle\" x=\"386.5\" y=\"-96.8\" font-family=\"Times,serif\" font-size=\"14.00\">data 10.0000</text>\n<polyline fill=\"none\" stroke=\"black\" points=\"430,-82.5 430,-118.5 \"/>\n<text text-anchor=\"middle\" x=\"473\" y=\"-96.8\" font-family=\"Times,serif\" font-size=\"14.00\">grad &#45;2.0000</text>\n</g>\n<!-- 133761436922016+ -->\n<g id=\"node8\" class=\"node\">\n<title>133761436922016+</title>\n<ellipse fill=\"none\" stroke=\"black\" cx=\"579\" cy=\"-72.5\" rx=\"27\" ry=\"18\"/>\n<text text-anchor=\"middle\" x=\"579\" y=\"-68.8\" font-family=\"Times,serif\" font-size=\"14.00\">+</text>\n</g>\n<!-- 133761438504448&#45;&gt;133761436922016+ -->\n<g id=\"edge6\" class=\"edge\">\n<title>133761438504448&#45;&gt;133761436922016+</title>\n<path fill=\"none\" stroke=\"black\" d=\"M516.07,-83.41C525.42,-81.76 534.43,-80.17 542.55,-78.74\"/>\n<polygon fill=\"black\" stroke=\"black\" points=\"543.41,-82.15 552.65,-76.96 542.2,-75.25 543.41,-82.15\"/>\n</g>\n<!-- 133761437573248 -->\n<g id=\"node4\" class=\"node\">\n<title>133761437573248</title>\n<polygon fill=\"none\" stroke=\"black\" points=\"321,-27.5 321,-63.5 515,-63.5 515,-27.5 321,-27.5\"/>\n<text text-anchor=\"middle\" x=\"332.5\" y=\"-41.8\" font-family=\"Times,serif\" font-size=\"14.00\">e</text>\n<polyline fill=\"none\" stroke=\"black\" points=\"344,-27.5 344,-63.5 \"/>\n<text text-anchor=\"middle\" x=\"386.5\" y=\"-41.8\" font-family=\"Times,serif\" font-size=\"14.00\">data &#45;6.0000</text>\n<polyline fill=\"none\" stroke=\"black\" points=\"429,-27.5 429,-63.5 \"/>\n<text text-anchor=\"middle\" x=\"472\" y=\"-41.8\" font-family=\"Times,serif\" font-size=\"14.00\">grad &#45;2.0000</text>\n</g>\n<!-- 133761437573248&#45;&gt;133761436922016+ -->\n<g id=\"edge9\" class=\"edge\">\n<title>133761437573248&#45;&gt;133761436922016+</title>\n<path fill=\"none\" stroke=\"black\" d=\"M515.16,-61.83C524.82,-63.47 534.13,-65.05 542.49,-66.47\"/>\n<polygon fill=\"black\" stroke=\"black\" points=\"542.09,-69.95 552.54,-68.18 543.26,-63.05 542.09,-69.95\"/>\n</g>\n<!-- 133761437573248* -->\n<g id=\"node5\" class=\"node\">\n<title>133761437573248*</title>\n<ellipse fill=\"none\" stroke=\"black\" cx=\"257\" cy=\"-45.5\" rx=\"27\" ry=\"18\"/>\n<text text-anchor=\"middle\" x=\"257\" y=\"-41.8\" font-family=\"Times,serif\" font-size=\"14.00\">*</text>\n</g>\n<!-- 133761437573248*&#45;&gt;133761437573248 -->\n<g id=\"edge2\" class=\"edge\">\n<title>133761437573248*&#45;&gt;133761437573248</title>\n<path fill=\"none\" stroke=\"black\" d=\"M284.26,-45.5C292.05,-45.5 301.1,-45.5 310.75,-45.5\"/>\n<polygon fill=\"black\" stroke=\"black\" points=\"310.99,-49 320.99,-45.5 310.99,-42 310.99,-49\"/>\n</g>\n<!-- 133761436914816 -->\n<g id=\"node6\" class=\"node\">\n<title>133761436914816</title>\n<polygon fill=\"none\" stroke=\"black\" points=\"642.5,-109.5 642.5,-145.5 830.5,-145.5 830.5,-109.5 642.5,-109.5\"/>\n<text text-anchor=\"middle\" x=\"653\" y=\"-123.8\" font-family=\"Times,serif\" font-size=\"14.00\">f</text>\n<polyline fill=\"none\" stroke=\"black\" points=\"663.5,-109.5 663.5,-145.5 \"/>\n<text text-anchor=\"middle\" x=\"706\" y=\"-123.8\" font-family=\"Times,serif\" font-size=\"14.00\">data &#45;2.0000</text>\n<polyline fill=\"none\" stroke=\"black\" points=\"748.5,-109.5 748.5,-145.5 \"/>\n<text text-anchor=\"middle\" x=\"789.5\" y=\"-123.8\" font-family=\"Times,serif\" font-size=\"14.00\">grad 4.0000</text>\n</g>\n<!-- 133761436914816&#45;&gt;133761437235712* -->\n<g id=\"edge7\" class=\"edge\">\n<title>133761436914816&#45;&gt;133761437235712*</title>\n<path fill=\"none\" stroke=\"black\" d=\"M830.65,-110.73C840.2,-109.01 849.43,-107.35 857.72,-105.85\"/>\n<polygon fill=\"black\" stroke=\"black\" points=\"858.47,-109.27 867.69,-104.06 857.23,-102.39 858.47,-109.27\"/>\n</g>\n<!-- 133761436922016 -->\n<g id=\"node7\" class=\"node\">\n<title>133761436922016</title>\n<polygon fill=\"none\" stroke=\"black\" points=\"642,-54.5 642,-90.5 831,-90.5 831,-54.5 642,-54.5\"/>\n<text text-anchor=\"middle\" x=\"653.5\" y=\"-68.8\" font-family=\"Times,serif\" font-size=\"14.00\">d</text>\n<polyline fill=\"none\" stroke=\"black\" points=\"665,-54.5 665,-90.5 \"/>\n<text text-anchor=\"middle\" x=\"705\" y=\"-68.8\" font-family=\"Times,serif\" font-size=\"14.00\">data 4.0000</text>\n<polyline fill=\"none\" stroke=\"black\" points=\"745,-54.5 745,-90.5 \"/>\n<text text-anchor=\"middle\" x=\"788\" y=\"-68.8\" font-family=\"Times,serif\" font-size=\"14.00\">grad &#45;2.0000</text>\n</g>\n<!-- 133761436922016&#45;&gt;133761437235712* -->\n<g id=\"edge5\" class=\"edge\">\n<title>133761436922016&#45;&gt;133761437235712*</title>\n<path fill=\"none\" stroke=\"black\" d=\"M831.1,-88.75C840.4,-90.37 849.38,-91.93 857.49,-93.33\"/>\n<polygon fill=\"black\" stroke=\"black\" points=\"857.14,-96.83 867.59,-95.09 858.34,-89.93 857.14,-96.83\"/>\n</g>\n<!-- 133761436922016+&#45;&gt;133761436922016 -->\n<g id=\"edge3\" class=\"edge\">\n<title>133761436922016+&#45;&gt;133761436922016</title>\n<path fill=\"none\" stroke=\"black\" d=\"M606.03,-72.5C613.66,-72.5 622.52,-72.5 631.94,-72.5\"/>\n<polygon fill=\"black\" stroke=\"black\" points=\"631.94,-76 641.94,-72.5 631.94,-69 631.94,-76\"/>\n</g>\n<!-- 133761438512272 -->\n<g id=\"node9\" class=\"node\">\n<title>133761438512272</title>\n<polygon fill=\"none\" stroke=\"black\" points=\"0,-55.5 0,-91.5 194,-91.5 194,-55.5 0,-55.5\"/>\n<text text-anchor=\"middle\" x=\"11.5\" y=\"-69.8\" font-family=\"Times,serif\" font-size=\"14.00\">b</text>\n<polyline fill=\"none\" stroke=\"black\" points=\"23,-55.5 23,-91.5 \"/>\n<text text-anchor=\"middle\" x=\"65.5\" y=\"-69.8\" font-family=\"Times,serif\" font-size=\"14.00\">data &#45;3.0000</text>\n<polyline fill=\"none\" stroke=\"black\" points=\"108,-55.5 108,-91.5 \"/>\n<text text-anchor=\"middle\" x=\"151\" y=\"-69.8\" font-family=\"Times,serif\" font-size=\"14.00\">grad &#45;4.0000</text>\n</g>\n<!-- 133761438512272&#45;&gt;133761437573248* -->\n<g id=\"edge4\" class=\"edge\">\n<title>133761438512272&#45;&gt;133761437573248*</title>\n<path fill=\"none\" stroke=\"black\" d=\"M194.01,-56.49C203.35,-54.83 212.37,-53.23 220.49,-51.79\"/>\n<polygon fill=\"black\" stroke=\"black\" points=\"221.37,-55.19 230.6,-50 220.15,-48.3 221.37,-55.19\"/>\n</g>\n<!-- 133761437569168 -->\n<g id=\"node10\" class=\"node\">\n<title>133761437569168</title>\n<polygon fill=\"none\" stroke=\"black\" points=\"4.5,-0.5 4.5,-36.5 189.5,-36.5 189.5,-0.5 4.5,-0.5\"/>\n<text text-anchor=\"middle\" x=\"16\" y=\"-14.8\" font-family=\"Times,serif\" font-size=\"14.00\">a</text>\n<polyline fill=\"none\" stroke=\"black\" points=\"27.5,-0.5 27.5,-36.5 \"/>\n<text text-anchor=\"middle\" x=\"67.5\" y=\"-14.8\" font-family=\"Times,serif\" font-size=\"14.00\">data 2.0000</text>\n<polyline fill=\"none\" stroke=\"black\" points=\"107.5,-0.5 107.5,-36.5 \"/>\n<text text-anchor=\"middle\" x=\"148.5\" y=\"-14.8\" font-family=\"Times,serif\" font-size=\"14.00\">grad 6.0000</text>\n</g>\n<!-- 133761437569168&#45;&gt;133761437573248* -->\n<g id=\"edge8\" class=\"edge\">\n<title>133761437569168&#45;&gt;133761437573248*</title>\n<path fill=\"none\" stroke=\"black\" d=\"M189.91,-34.21C200.76,-36.06 211.28,-37.86 220.61,-39.45\"/>\n<polygon fill=\"black\" stroke=\"black\" points=\"220.16,-42.93 230.6,-41.16 221.34,-36.03 220.16,-42.93\"/>\n</g>\n</g>\n</svg>\n",
            "text/plain": [
              "<graphviz.graphs.Digraph at 0x79a7c2f4e860>"
            ]
          },
          "metadata": {},
          "execution_count": 205
        }
      ]
    },
    {
      "cell_type": "markdown",
      "source": [
        "As you can see in the diagram, the grad attribute in each node now have value, that is the gradient - the derivative of L corresponding to each variable.\n",
        "\n",
        "Consider the last node L, this is the root node so $∇L/∇L$ = 1 thus grad = 1.0\n",
        "\n",
        "Then, you can see that, its two children node d,f have grad = 4.0 and -2.0, respectively. Precisely, that is\n",
        "\n",
        "- $\\frac{∇L}{∇f} $ = d = 4.0\n",
        "\n",
        "- $\\frac{∇L}{∇d} $ = f = -2.0"
      ],
      "metadata": {
        "id": "vCdMMUjnAuiJ"
      }
    },
    {
      "cell_type": "markdown",
      "source": [
        "Then because d = c + e, we will have:\n",
        "\n",
        "- $\\frac{∇d}{∇c} $ = 1.0\n",
        "\n",
        "- $\\frac{∇d}{∇e} $ = 1.0\n",
        "\n",
        "And thus, by the Chain Rule we will have:\n",
        "\n",
        "- $\\frac{∇L}{∇c}$ = $\\frac{∇L}{∇d}$.$\\frac{∇d}{∇c}$ = -2.0 x 1.0 = -2.0\n",
        "\n",
        "- $\\frac{∇L}{∇e}$ = $\\frac{∇L}{∇d}$.$\\frac{∇d}{∇e}$ = -2.0 x 1.0 = -2.0"
      ],
      "metadata": {
        "id": "4okckiszB8m1"
      }
    },
    {
      "cell_type": "markdown",
      "source": [
        "The process continue until the gradient fall back to all the leaf node (node that does not have any children). Then, after the Backward pass, we will update the weights and bias of the model as we do in section __I__ (with the control of learning rate parameter)."
      ],
      "metadata": {
        "id": "lPfskhM4CswG"
      }
    },
    {
      "cell_type": "markdown",
      "source": [
        "So far, we have talk about Back Propagation and how it works. We can start to train a simple MLP - (MultiLayer Perceptron)."
      ],
      "metadata": {
        "id": "b05Uf-BWDBCx"
      }
    },
    {
      "cell_type": "markdown",
      "source": [
        "# IV. Simple MLP classification"
      ],
      "metadata": {
        "id": "fxlrjD91DfsZ"
      }
    },
    {
      "cell_type": "code",
      "source": [
        "class Module:\n",
        "\n",
        "    def zero_grad(self): # reset the gradient\n",
        "        for p in self.parameters():\n",
        "            p.grad = 0\n",
        "\n",
        "    def parameters(self):\n",
        "        return []\n",
        "\n",
        "class Neuron(Module):\n",
        "\n",
        "    def __init__(self, nin, nonlin=True):\n",
        "        self.w = [Value(random.uniform(-1,1)) for _ in range(nin)]\n",
        "        self.b = Value(0)\n",
        "        self.nonlin = nonlin\n",
        "\n",
        "    def __call__(self, x):\n",
        "        act = sum((wi*xi for wi,xi in zip(self.w, x)), self.b)\n",
        "        return act.relu() if self.nonlin else act # apply activation function or not\n",
        "\n",
        "    def parameters(self):\n",
        "        return self.w + [self.b]\n",
        "\n",
        "    def __repr__(self):\n",
        "        return f\"{'ReLU' if self.nonlin else 'Linear'}Neuron({len(self.w)})\"\n",
        "\n",
        "class Layer(Module):\n",
        "\n",
        "    def __init__(self, nin, nout, **kwargs):\n",
        "        self.neurons = [Neuron(nin, **kwargs) for _ in range(nout)]\n",
        "\n",
        "    def __call__(self, x):\n",
        "        out = [n(x) for n in self.neurons]\n",
        "        return out[0] if len(out) == 1 else out\n",
        "\n",
        "    def parameters(self):\n",
        "        return [p for n in self.neurons for p in n.parameters()]\n",
        "\n",
        "    def __repr__(self):\n",
        "        return f\"Layer of [{', '.join(str(n) for n in self.neurons)}]\"\n",
        "\n",
        "class MLP(Module):\n",
        "\n",
        "    def __init__(self, nin, nouts):\n",
        "        sz = [nin] + nouts\n",
        "        self.layers = [Layer(sz[i], sz[i+1], nonlin=i!=len(nouts)-1) for i in range(len(nouts))]\n",
        "\n",
        "    def __call__(self, x):\n",
        "        for layer in self.layers:\n",
        "            x = layer(x)\n",
        "        return x\n",
        "\n",
        "    def parameters(self):\n",
        "        return [p for layer in self.layers for p in layer.parameters()]\n",
        "\n",
        "    def __repr__(self):\n",
        "        return f\"MLP of [{', '.join(str(layer) for layer in self.layers)}]\""
      ],
      "metadata": {
        "id": "Jf1DBP0TD9jM"
      },
      "execution_count": 207,
      "outputs": []
    },
    {
      "cell_type": "markdown",
      "source": [
        "The above code implement the MLP class from scrath (this is a simple version of the actual one in Keras library) with the two class Layer and Neuron. We also have a special class call Module (which use for reset the gradient to 0 each time we done a forward and backward iteration when training model).\n",
        "\n",
        "Let's load the Toy dataset."
      ],
      "metadata": {
        "id": "DXFFed6XGxvy"
      }
    },
    {
      "cell_type": "code",
      "source": [
        "np.random.seed(1337)\n",
        "random.seed(1337)\n",
        "\n",
        "# make up a dataset\n",
        "\n",
        "from sklearn.datasets import make_moons, make_blobs\n",
        "X, y = make_moons(n_samples=100, noise=0.1)\n",
        "\n",
        "y = y*2 - 1 # make y be -1 or 1\n",
        "# visualize in 2D\n",
        "plt.figure(figsize=(5,5))\n",
        "plt.scatter(X[:,0], X[:,1], c=y, s=20, cmap='jet')"
      ],
      "metadata": {
        "colab": {
          "base_uri": "https://localhost:8080/",
          "height": 462
        },
        "id": "x44f3gtQFB-P",
        "outputId": "0da63a92-1b8d-4488-e297-a68e7c137c40"
      },
      "execution_count": 239,
      "outputs": [
        {
          "output_type": "execute_result",
          "data": {
            "text/plain": [
              "<matplotlib.collections.PathCollection at 0x79a7ba5a34c0>"
            ]
          },
          "metadata": {},
          "execution_count": 239
        },
        {
          "output_type": "display_data",
          "data": {
            "text/plain": [
              "<Figure size 500x500 with 1 Axes>"
            ],
            "image/png": "[encoded data removed]"
          },
          "metadata": {}
        }
      ]
    },
    {
      "cell_type": "code",
      "source": [
        "# initialize a model\n",
        "model = MLP(2, [16, 16, 1]) # 2-layer neural network\n",
        "print(model)\n",
        "print(\"number of parameters\", len(model.parameters())) # In this case 16*3 + 16*17 + 17 = 337"
      ],
      "metadata": {
        "colab": {
          "base_uri": "https://localhost:8080/"
        },
        "id": "SyzvQQx7I1Ns",
        "outputId": "e95deff9-8050-4d81-c279-5c450ad19c12"
      },
      "execution_count": 240,
      "outputs": [
        {
          "output_type": "stream",
          "name": "stdout",
          "text": [
            "MLP of [Layer of [ReLUNeuron(2), ReLUNeuron(2), ReLUNeuron(2), ReLUNeuron(2), ReLUNeuron(2), ReLUNeuron(2), ReLUNeuron(2), ReLUNeuron(2), ReLUNeuron(2), ReLUNeuron(2), ReLUNeuron(2), ReLUNeuron(2), ReLUNeuron(2), ReLUNeuron(2), ReLUNeuron(2), ReLUNeuron(2)], Layer of [ReLUNeuron(16), ReLUNeuron(16), ReLUNeuron(16), ReLUNeuron(16), ReLUNeuron(16), ReLUNeuron(16), ReLUNeuron(16), ReLUNeuron(16), ReLUNeuron(16), ReLUNeuron(16), ReLUNeuron(16), ReLUNeuron(16), ReLUNeuron(16), ReLUNeuron(16), ReLUNeuron(16), ReLUNeuron(16)], Layer of [LinearNeuron(16)]]\n",
            "number of parameters 337\n"
          ]
        }
      ]
    },
    {
      "cell_type": "markdown",
      "source": [
        "We take a look at the model parameters which is initilally randomed."
      ],
      "metadata": {
        "id": "B8linvDpdXV3"
      }
    },
    {
      "cell_type": "code",
      "source": [
        "param_initial = model.parameters()\n",
        "\n",
        "# The first neuron in the first layer parameter (the bias initialize to 0)\n",
        "for i in param_initial[:3]:\n",
        "  print(i.data)"
      ],
      "metadata": {
        "colab": {
          "base_uri": "https://localhost:8080/"
        },
        "id": "94YMfjgTdTv0",
        "outputId": "ca6b7342-1455-42b3-f29d-d075d127cd9e"
      },
      "execution_count": 245,
      "outputs": [
        {
          "output_type": "stream",
          "name": "stdout",
          "text": [
            "0.23550571390294128\n",
            "0.06653114721000164\n",
            "0\n"
          ]
        }
      ]
    },
    {
      "cell_type": "markdown",
      "source": [
        "Now, we will load the create data for training model as well as implement the loss method to evaluate the mode."
      ],
      "metadata": {
        "id": "4J1PcBvWSoM2"
      }
    },
    {
      "cell_type": "code",
      "source": [
        "def load_data(batch_size=None):\n",
        "    if batch_size is None:\n",
        "        Xb, yb = X, y\n",
        "    else:\n",
        "        ri = np.random.permutation(X.shape[0])[:batch_size]\n",
        "        Xb, yb = X[ri], y[ri]\n",
        "    return Xb,yb,[list(map(Value, xrow)) for xrow in Xb] # convert to Value object [Value(), Value(),..]\n",
        "\n",
        "def loss():\n",
        "\n",
        "    Xb, yb, inputs = load_data()\n",
        "\n",
        "    # forward the model to get scores\n",
        "    scores = list(map(model, inputs)) # [Value(), Value(),..] but now each is output of the model\n",
        "\n",
        "    # svm \"max-margin\" loss\n",
        "    losses = [(1 + -yi*scorei).relu() for yi, scorei in zip(yb, scores)]\n",
        "    data_loss = sum(losses) * (1.0 / len(losses))\n",
        "    # L2 regularization\n",
        "    alpha = 1e-4 # notice alpha is not 1/2 in this case, it control how strong we want the regularizaztion\n",
        "    reg_loss = alpha * sum((p*p for p in model.parameters()))\n",
        "    total_loss = data_loss + reg_loss\n",
        "\n",
        "    # also get accuracy\n",
        "    accuracy = [(yi > 0) == (scorei.data > 0) for yi, scorei in zip(yb, scores)]\n",
        "    return total_loss, sum(accuracy) / len(accuracy)\n",
        "\n",
        "total_loss, acc = loss()\n",
        "print(total_loss, acc)"
      ],
      "metadata": {
        "colab": {
          "base_uri": "https://localhost:8080/"
        },
        "id": "7l2q1bkPJAEF",
        "outputId": "0b83e69f-d87a-45d5-e9a9-f8e9291db1cd"
      },
      "execution_count": 246,
      "outputs": [
        {
          "output_type": "stream",
          "name": "stdout",
          "text": [
            "Value(data=0.8958441028683222, grad=0) 0.5\n"
          ]
        }
      ]
    },
    {
      "cell_type": "markdown",
      "source": [
        "The loss function we will use to measure model performance (and also for Back Propagation) is:\n",
        "\n",
        "![6f79bc8e-b48f-4686-8cc0-8f91d2cf3192.jpg](data:image/jpeg;base64,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)"
      ],
      "metadata": {
        "id": "qpLC7TRLQx6U"
      }
    },
    {
      "cell_type": "markdown",
      "source": [
        "Now, we can start training the model. Precisely, we will do 100 time forward and backward pass, each time, we update the model parameters as we do earlier, we also keep track of the loss throughout each iteration to see if any problem (like overfitting or dead neuron,...) in the training process."
      ],
      "metadata": {
        "id": "b4oI6-xVcjI8"
      }
    },
    {
      "cell_type": "code",
      "source": [
        "# optimization\n",
        "for k in range(100):\n",
        "\n",
        "    # forward\n",
        "    total_loss, acc = loss()\n",
        "\n",
        "    # backward\n",
        "    model.zero_grad() # reset to zero gradient before calling the backward pass\n",
        "    total_loss.backward() # call the backward pass to get the accumulated gradient\n",
        "\n",
        "    # update (sgd)\n",
        "    learning_rate = 1.0 - 0.9*k/100\n",
        "    for p in model.parameters():\n",
        "        p.data -= learning_rate * p.grad # moving toward the optimum\n",
        "\n",
        "    if k % 1 == 0:\n",
        "        print(f\"step {k} loss {total_loss.data}, accuracy {acc*100}%\")"
      ],
      "metadata": {
        "colab": {
          "base_uri": "https://localhost:8080/"
        },
        "id": "Tqx1ZakELMSm",
        "outputId": "3d7b71ed-1963-4e13-b363-6714d3f3b819"
      },
      "execution_count": 247,
      "outputs": [
        {
          "output_type": "stream",
          "name": "stdout",
          "text": [
            "step 0 loss 0.8958441028683222, accuracy 50.0%\n",
            "step 1 loss 1.723590533697202, accuracy 81.0%\n",
            "step 2 loss 0.7429006313851131, accuracy 77.0%\n",
            "step 3 loss 0.7705641260584202, accuracy 82.0%\n",
            "step 4 loss 0.3692793385976538, accuracy 84.0%\n",
            "step 5 loss 0.313545481918522, accuracy 86.0%\n",
            "step 6 loss 0.2814234349772434, accuracy 89.0%\n",
            "step 7 loss 0.26888733313983904, accuracy 91.0%\n",
            "step 8 loss 0.25671472860574157, accuracy 91.0%\n",
            "step 9 loss 0.27048625516379227, accuracy 91.0%\n",
            "step 10 loss 0.24507023853658041, accuracy 91.0%\n",
            "step 11 loss 0.25099055297915035, accuracy 92.0%\n",
            "step 12 loss 0.21560951851922946, accuracy 91.0%\n",
            "step 13 loss 0.23090378446402737, accuracy 93.0%\n",
            "step 14 loss 0.2015215122789944, accuracy 92.0%\n",
            "step 15 loss 0.2257450627928223, accuracy 93.0%\n",
            "step 16 loss 0.194479875962041, accuracy 92.0%\n",
            "step 17 loss 0.2108949619924637, accuracy 93.0%\n",
            "step 18 loss 0.159830773563036, accuracy 94.0%\n",
            "step 19 loss 0.18453748746883927, accuracy 93.0%\n",
            "step 20 loss 0.18977522856087634, accuracy 91.0%\n",
            "step 21 loss 0.19072704042579652, accuracy 93.0%\n",
            "step 22 loss 0.11733695088756484, accuracy 97.0%\n",
            "step 23 loss 0.12173524408232458, accuracy 95.0%\n",
            "step 24 loss 0.12615712612770444, accuracy 95.0%\n",
            "step 25 loss 0.1604909778080168, accuracy 95.0%\n",
            "step 26 loss 0.18747197705245805, accuracy 92.0%\n",
            "step 27 loss 0.1674183789105941, accuracy 95.0%\n",
            "step 28 loss 0.09586583491455394, accuracy 97.0%\n",
            "step 29 loss 0.08778783707420909, accuracy 96.0%\n",
            "step 30 loss 0.11731297569011855, accuracy 95.0%\n",
            "step 31 loss 0.09340146460619832, accuracy 97.0%\n",
            "step 32 loss 0.12454454903103455, accuracy 95.0%\n",
            "step 33 loss 0.07984002652777265, accuracy 97.0%\n",
            "step 34 loss 0.0772751923292168, accuracy 97.0%\n",
            "step 35 loss 0.07661250143094471, accuracy 98.0%\n",
            "step 36 loss 0.10610492379198372, accuracy 96.0%\n",
            "step 37 loss 0.09062808429265959, accuracy 99.0%\n",
            "step 38 loss 0.10671887043036936, accuracy 95.0%\n",
            "step 39 loss 0.052256599219758504, accuracy 98.0%\n",
            "step 40 loss 0.06016009895234453, accuracy 100.0%\n",
            "step 41 loss 0.08596724533333952, accuracy 96.0%\n",
            "step 42 loss 0.05112107943179593, accuracy 99.0%\n",
            "step 43 loss 0.05240142401642835, accuracy 97.0%\n",
            "step 44 loss 0.04530684179001554, accuracy 100.0%\n",
            "step 45 loss 0.07211073370655108, accuracy 97.0%\n",
            "step 46 loss 0.03334238651310233, accuracy 99.0%\n",
            "step 47 loss 0.03143222795751121, accuracy 100.0%\n",
            "step 48 loss 0.03658536747111516, accuracy 99.0%\n",
            "step 49 loss 0.04829139382390278, accuracy 99.0%\n",
            "step 50 loss 0.09875114765619643, accuracy 96.0%\n",
            "step 51 loss 0.05449063965875454, accuracy 99.0%\n",
            "step 52 loss 0.0339267943570829, accuracy 100.0%\n",
            "step 53 loss 0.05261517263568447, accuracy 97.0%\n",
            "step 54 loss 0.032502952514249304, accuracy 99.0%\n",
            "step 55 loss 0.02888327387207809, accuracy 100.0%\n",
            "step 56 loss 0.041391511040272486, accuracy 98.0%\n",
            "step 57 loss 0.01898740742612845, accuracy 100.0%\n",
            "step 58 loss 0.025238335238837457, accuracy 100.0%\n",
            "step 59 loss 0.02079656521341883, accuracy 100.0%\n",
            "step 60 loss 0.03259711157810237, accuracy 99.0%\n",
            "step 61 loss 0.017863351693480238, accuracy 100.0%\n",
            "step 62 loss 0.02300871783221177, accuracy 100.0%\n",
            "step 63 loss 0.022079325463581382, accuracy 100.0%\n",
            "step 64 loss 0.029432917853529764, accuracy 99.0%\n",
            "step 65 loss 0.016251514644091816, accuracy 100.0%\n",
            "step 66 loss 0.028468534483264543, accuracy 99.0%\n",
            "step 67 loss 0.013994365546208738, accuracy 100.0%\n",
            "step 68 loss 0.015552344843651277, accuracy 100.0%\n",
            "step 69 loss 0.0338911994616018, accuracy 99.0%\n",
            "step 70 loss 0.01422987006592693, accuracy 100.0%\n",
            "step 71 loss 0.013255281583285525, accuracy 100.0%\n",
            "step 72 loss 0.012300277590022083, accuracy 100.0%\n",
            "step 73 loss 0.01267605249835593, accuracy 100.0%\n",
            "step 74 loss 0.020593811955954805, accuracy 100.0%\n",
            "step 75 loss 0.01184539820536447, accuracy 100.0%\n",
            "step 76 loss 0.01601269747288301, accuracy 100.0%\n",
            "step 77 loss 0.02545836023922216, accuracy 100.0%\n",
            "step 78 loss 0.014382930289661934, accuracy 100.0%\n",
            "step 79 loss 0.011698962425818006, accuracy 100.0%\n",
            "step 80 loss 0.012318500800515728, accuracy 100.0%\n",
            "step 81 loss 0.014121117031464256, accuracy 100.0%\n",
            "step 82 loss 0.011664591962446243, accuracy 100.0%\n",
            "step 83 loss 0.011589314549188724, accuracy 100.0%\n",
            "step 84 loss 0.010990299347735225, accuracy 100.0%\n",
            "step 85 loss 0.01098922672069161, accuracy 100.0%\n",
            "step 86 loss 0.010988193757655073, accuracy 100.0%\n",
            "step 87 loss 0.010987200447388707, accuracy 100.0%\n",
            "step 88 loss 0.010986246779084925, accuracy 100.0%\n",
            "step 89 loss 0.010985332742365276, accuracy 100.0%\n",
            "step 90 loss 0.010984458327280174, accuracy 100.0%\n",
            "step 91 loss 0.010983623524308865, accuracy 100.0%\n",
            "step 92 loss 0.010982828324359074, accuracy 100.0%\n",
            "step 93 loss 0.010982072718767001, accuracy 100.0%\n",
            "step 94 loss 0.010981356699297042, accuracy 100.0%\n",
            "step 95 loss 0.010980680258141723, accuracy 100.0%\n",
            "step 96 loss 0.010980043387921508, accuracy 100.0%\n",
            "step 97 loss 0.010979446081684675, accuracy 100.0%\n",
            "step 98 loss 0.010978888332907229, accuracy 100.0%\n",
            "step 99 loss 0.010978370135492719, accuracy 100.0%\n"
          ]
        }
      ]
    },
    {
      "cell_type": "markdown",
      "source": [
        "As you can see, the model update itself every step, moving step by step to minimize the loss, which we see the loss reduce gradually from 1.7 to 0.01 at the end of the training."
      ],
      "metadata": {
        "id": "Lr2yXHLdUBEH"
      }
    },
    {
      "cell_type": "code",
      "source": [
        "param_trained = model.parameters()\n",
        "\n",
        "# The first neuron in the first layer parameter after the model get trained\n",
        "for i in param_trained[:3]:\n",
        "  print(i.data)"
      ],
      "metadata": {
        "colab": {
          "base_uri": "https://localhost:8080/"
        },
        "id": "IDzspkTofstY",
        "outputId": "9b194cda-06a7-459a-d886-9749b8a0d0fa"
      },
      "execution_count": 250,
      "outputs": [
        {
          "output_type": "stream",
          "name": "stdout",
          "text": [
            "-0.0761275947961443\n",
            "0.2505645869095168\n",
            "-0.23471352356143418\n"
          ]
        }
      ]
    },
    {
      "cell_type": "markdown",
      "source": [
        "The weight of the model get updated (although the model loss in training process told us that but just a little check on it)."
      ],
      "metadata": {
        "id": "Rj93dt5rf0bF"
      }
    },
    {
      "cell_type": "markdown",
      "source": [
        "We now visualize the margin that produce by the model."
      ],
      "metadata": {
        "id": "e_cFzU7mUtuu"
      }
    },
    {
      "cell_type": "code",
      "source": [
        "# visualize decision boundary\n",
        "\n",
        "h = 0.25\n",
        "x_min, x_max = X[:, 0].min() - 1, X[:, 0].max() + 1\n",
        "y_min, y_max = X[:, 1].min() - 1, X[:, 1].max() + 1\n",
        "xx, yy = np.meshgrid(np.arange(x_min, x_max, h),\n",
        "                     np.arange(y_min, y_max, h))\n",
        "Xmesh = np.c_[xx.ravel(), yy.ravel()]\n",
        "inputs = [list(map(Value, xrow)) for xrow in Xmesh]\n",
        "scores = list(map(model, inputs))\n",
        "Z = np.array([s.data > 0 for s in scores])\n",
        "Z = Z.reshape(xx.shape)\n",
        "\n",
        "fig = plt.figure()\n",
        "plt.contourf(xx, yy, Z, cmap=plt.cm.Spectral, alpha=0.8)\n",
        "plt.scatter(X[:, 0], X[:, 1], c=y, s=40, cmap=plt.cm.Spectral)\n",
        "plt.xlim(xx.min(), xx.max())\n",
        "plt.ylim(yy.min(), yy.max())"
      ],
      "metadata": {
        "colab": {
          "base_uri": "https://localhost:8080/",
          "height": 447
        },
        "id": "i24waX4jUzS8",
        "outputId": "1a2f001b-9944-4858-8b67-334b164baf35"
      },
      "execution_count": 248,
      "outputs": [
        {
          "output_type": "execute_result",
          "data": {
            "text/plain": [
              "(-1.548639298268643, 1.951360701731357)"
            ]
          },
          "metadata": {},
          "execution_count": 248
        },
        {
          "output_type": "display_data",
          "data": {
            "text/plain": [
              "<Figure size 640x480 with 1 Axes>"
            ],
            "image/png": "[encoded data removed]"
          },
          "metadata": {}
        }
      ]
    },
    {
      "cell_type": "markdown",
      "source": [
        "It look pretty good, right?"
      ],
      "metadata": {
        "id": "ZGcoG6bWU_s2"
      }
    },
    {
      "cell_type": "markdown",
      "source": [
        "# V. Conclusion"
      ],
      "metadata": {
        "id": "n2NB5-ewVO8Q"
      }
    },
    {
      "cell_type": "markdown",
      "source": [
        "- So far, we have implement a simple version of Tensors (maybe not as strong as the one of TensorFlow) but it have help us to figure out how variables are store and what they store themself. Moreover, we also take a deeper look on how the model get train and update their parameter through out Back Propagation. And beyond that, we also implement a simple version of MLP which provide us a more detail about how these neuron network  work.\n",
        "\n",
        "- A great thank to __Andrej Kaparthy__ for inspise me a lot to do this notebook and the repo also. Most of the code in the notebook is of __Andrej Kaparthy__, I just modify a little bit in the __Value__ class for a better (maybe hehe) and also I adding some explaination for on the road and reconstruct the structure of the repo lecture of him.\n",
        "\n",
        "- Andrej Karpathy's micrograd material:\n",
        "\n",
        ">> [Andrej Karpathy's micrograd repo](https://github.com/karpathy/micrograd)\n",
        "\n",
        ">> [Andrej Karpathy's The spelled-out intro to neural networks and backpropagation: building micrograd](https://youtu.be/VMj-3S1tku0?si=giG-cNp3i0chlrn3)\n",
        "\n",
        "\n",
        "\n",
        "\n"
      ],
      "metadata": {
        "id": "4cGyD5XnVSeJ"
      }
    }
  ]
}